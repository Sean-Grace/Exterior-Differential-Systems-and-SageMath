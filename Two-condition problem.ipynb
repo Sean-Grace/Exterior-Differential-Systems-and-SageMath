{
 "cells": [
  {
   "cell_type": "code",
   "execution_count": 1,
   "id": "9f35c61e",
   "metadata": {},
   "outputs": [],
   "source": [
    "%display latex\n",
    "import sympy as sp\n",
    "from itertools import combinations\n",
    "import re"
   ]
  },
  {
   "cell_type": "code",
   "execution_count": 2,
   "id": "89c426ee",
   "metadata": {},
   "outputs": [],
   "source": [
    "import string\n",
    "def arb_vector_field( Manifold, chart, frame, Name=None):\n",
    "    if dim(Manifold)>26:\n",
    "        return ERROR\n",
    "    \n",
    "    alphabet_string = string.ascii_lowercase\n",
    "    alphabet_list = list(alphabet_string)\n",
    "    \n",
    "    vectorlist = [None]*dim(Manifold)\n",
    "    \n",
    "    for i in range(dim(Manifold)):\n",
    "        vectorlist[i] = alphabet_list[i]+\"_\"+Name\n",
    "        \n",
    "    #func = [None]*dim(M)\n",
    "    for i in range (len(vectorlist)):\n",
    "        locals()[vectorlist[i]] = var(vectorlist[i])\n",
    "    for i in range (len(vectorlist)):\n",
    "        vectorlist[i]=locals()[vectorlist[i]]\n",
    "    \n",
    "    if Name==None:\n",
    "        return (Manifold.vector_field({frame:vectorlist}))\n",
    "    else:\n",
    "        return (Manifold.vector_field({frame:vectorlist},name = Name),vectorlist)"
   ]
  },
  {
   "cell_type": "code",
   "execution_count": 3,
   "id": "26d1613b",
   "metadata": {},
   "outputs": [],
   "source": [
    "def Torsion_checker(Ideal, Independence_Conditions, vector_field_1, vector_field_2, Manifold, variables, cond):\n",
    "    IC=[]\n",
    "    dA1 = Ideal[3]\n",
    "    dA2 = Ideal[4]\n",
    "    dA3 = Ideal[5]\n",
    "    constraints = [None]*8\n",
    "    for k in range(len(variables[2:6])):\n",
    "        constraints[k] = (variables[k+2]!=0)\n",
    "    for l in range(len(variables[8:12])):\n",
    "        constraints[l+len(variables[2:6])] = (variables[l+8]!=0) \n",
    "    \n",
    "    for j in range(len(Independence_Conditions)):\n",
    "        IC.append(vector_field_1(Independence_Conditions[0]).expr()-1)\n",
    "        IC.append(vector_field_2(Independence_Conditions[0]).expr())\n",
    "    \n",
    "    IC.append(vector_field_1(Independence_Conditions[1]).expr())\n",
    "    IC.append(vector_field_2(Independence_Conditions[1]).expr()-1)\n",
    "    \n",
    "    for k in range(len(Ideal)/2):\n",
    "        IC.append(vector_field_1(Ideal[k]).expr())\n",
    "        IC.append(vector_field_2(Ideal[k]).expr())\n",
    "    \n",
    "    #soln1 = solve(IC,variables)[0]\n",
    "    \n",
    "    for l in range(len(Ideal)/2,len(Ideal)):\n",
    "        IC.append((Ideal[l])(vector_field_1,vector_field_2).expr())\n",
    "    \n",
    "    soln2 = solve(IC+cond,tuple(i for i in variables))[0]\n",
    "    if soln2 == []:\n",
    "        print(\"There exists torsion in the system\")\n",
    "    else:\n",
    "        print(\"The torsion in the system is absorbable\")\n",
    "    con = 1\n",
    "    lst_of_cond = []\n",
    "    for i in range(len(soln2)):\n",
    "        if bool(soln2[i].right_hand_side().denominator()==1)==False : \n",
    "            if soln2[i].right_hand_side().denominator() not in lst_of_cond:\n",
    "                lst_of_cond.append(soln2[i].right_hand_side().denominator())\n",
    "                lst_of_cond.append(soln2[i].right_hand_side().numerator())\n",
    "    \n",
    "                print(\"{0} Dimensional Integral element exists iff {1} = 0, {2} = 0\".format(con,(soln2[i].right_hand_side().denominator()),\n",
    "                                                                                                     soln2[i].right_hand_side().numerator()))\n",
    "                con+=1\n",
    "    for i in range(len(soln2)):\n",
    "        soln2[i] = soln2[i].right_hand_side()                     \n",
    "    return soln2[0:6],soln2[6:12], lst_of_cond\n",
    "    #return(soln2)"
   ]
  },
  {
   "cell_type": "code",
   "execution_count": 4,
   "id": "f7e37cce",
   "metadata": {},
   "outputs": [],
   "source": [
    "def Cartan_character_Calculator( M, Ideal, X, Y):\n",
    "    weg = wedge_max(M,Ideal)\n",
    "    \n",
    "    TableuaxX = []\n",
    "    TableuaxY = []\n",
    "    tallyX = 0\n",
    "    for diff in Ideal:\n",
    "        tally = 0\n",
    "        if diff.degree()==2:\n",
    "            diff_form = X.contract(diff)\n",
    "            for i in range(len(weg)):\n",
    "                tmp = diff_form.wedge(weg[i])\n",
    "                if tmp!=0:\n",
    "                    tally += 1\n",
    "            if tally == len(weg):\n",
    "                tallyX += 1\n",
    "                TableuaxX.append(diff_form)\n",
    "    tallyY = 0            \n",
    "    for diff in Ideal:\n",
    "        tally = 0\n",
    "        if diff.degree()==2:\n",
    "            diff_form = Y.contract(diff)\n",
    "            for i in range(len(weg)):\n",
    "                tmp = diff_form.wedge(weg[i])\n",
    "                if tmp!=0:\n",
    "                    tally += 1\n",
    "            if tally == len(weg):\n",
    "                tallyY +=1\n",
    "                TableuaxY.append(diff_form)\n",
    "    \n",
    "    Tableuax = TableuaxX + TableuaxY\n",
    "    if len(Tableuax)==0:\n",
    "        print(\"s_1=0\")\n",
    "    elif len(Tableuax)==1:\n",
    "        print(\"s_1=1\")\n",
    "    else:\n",
    "        for i in range(1,len(TableuaxX)):           \n",
    "            for j in range(0,i-1):\n",
    "                if TableuaxX[j].wedge(TableuaxX[i])==0:\n",
    "                    TableuaxX[i]=1\n",
    "                    break\n",
    "        for k in range(len(TableuaxX)):\n",
    "            if TableuaxX[k]==1:\n",
    "                TableuaxX.remove(TableuaxX[k])\n",
    "                \n",
    "        for i in range(1,len(TableuaxY)):           \n",
    "            for j in range(0,i-1):\n",
    "                if TableuaxY[j].wedge(TableuaxY[i])==0:\n",
    "                    TableuaxY[i]=1\n",
    "                    break\n",
    "        for k in range(len(TableuaxY)):\n",
    "            if TableuaxY[k]==1:\n",
    "                TableuaxY.remove(TableuaxY[k])\n",
    "                \n",
    "        if len(TableuaxX)>=len(TableuaxY):\n",
    "            print(\"s_1 = {0}\".format(len(TableuaxX)))\n",
    "            s_2 = len(TableuaxY)\n",
    "            for i in range(len(TableuaxY)):\n",
    "                for j in range(len(TableuaxX)):\n",
    "                    tmp = TableuaxY[i].wedge(TableuaxX[j])\n",
    "                    if tmp == 0:\n",
    "                        s_2 = s_2-2\n",
    "                        break\n",
    "                        \n",
    "        elif len(TableuaxY)<len(TableuaxY):\n",
    "            print(\"s_1 = {0}\".format(len(TableuaxY)))\n",
    "            s_2 = len(TableuaxX)\n",
    "            for i in range(len(TableuaxX)):\n",
    "                for j in range(len(TableuaxY)):\n",
    "                    tmp = TableuaxX[i].wedge(TableuaxY[j])\n",
    "                    if tmp == 0:\n",
    "                        s_2 = s_2-1\n",
    "                        break\n",
    "                        \n",
    "        print(\"s_2= {0}\".format(s_2))"
   ]
  },
  {
   "cell_type": "code",
   "execution_count": 5,
   "id": "f23e2e48",
   "metadata": {},
   "outputs": [],
   "source": [
    "def wedge_max(M,Ideal):\n",
    "    weg = []\n",
    "    weg.append(Ideal[0])\n",
    "    for arg in range(1,len(Ideal)):\n",
    "        for k in range(0,len(weg)):\n",
    "            wedg = weg[k].wedge(Ideal[arg])\n",
    "            if wedg!=0 and (wedg).degree()!=dim(M):\n",
    "                weg[k] = wedg\n",
    "                break\n",
    "            elif k==len(weg)-1:\n",
    "                weg.append(Ideal[arg])\n",
    "                break \n",
    "    return (weg)"
   ]
  },
  {
   "cell_type": "code",
   "execution_count": 6,
   "id": "50cd6ad8",
   "metadata": {},
   "outputs": [],
   "source": [
    "def Independence_Conditions_Checker(M,list_of_indep, diff_form):\n",
    "    for i in range(len(list_of_indep)):\n",
    "        if diff_form.wedge(list_of_indep[i])==0:\n",
    "            return(\"Contracted Differential Form is not independent of the list of differential forms\")\n",
    "    list_of_cond = []\n",
    "    res=[]\n",
    "    lst=[]\n",
    "    for i in range(0,dim(M)):\n",
    "            lst.append(i)\n",
    "    for i in range(0,len(list_of_indep)):\n",
    "        \n",
    "        wedg = list_of_indep[i].wedge(diff_form)    \n",
    "        degg = list_of_indep[i].wedge(diff_form).degree()\n",
    "\n",
    "        comb = list(combinations(lst, int(degg)))\n",
    "        \n",
    "        for j in comb:\n",
    "            if list_of_ind[i].wedge(diff_form)[j]!=0:\n",
    "                if list_of_ind[i].wedge(diff_form)[j].expr().variables() == ():\n",
    "                    return(LatexExpr(\"Differential \\: form \\; {} \\: is \\: always \\: independent \\: of \\: differential \\: forms \\: given\".format(latex(diff_form.parent()))))\n",
    "                if list_of_ind[i].wedge(diff_form)[j] not in res and -list_of_ind[i].wedge(diff_form)[j] not in res:\n",
    "                    res.append(list_of_ind[i].wedge(diff_form)[j])\n",
    "            \n",
    "        \n",
    "    return (res)"
   ]
  },
  {
   "cell_type": "code",
   "execution_count": 7,
   "id": "0cea4ed4",
   "metadata": {},
   "outputs": [],
   "source": [
    "def loop_rec(y, degg, n,wedg,res ):\n",
    "    inp = [0]*n\n",
    "    if n >= 1:\n",
    "        for x in range(y, degg-1):\n",
    "            inp[x] = y\n",
    "            loop_rec(y+1, n - 1, degg,wedg,res)\n",
    "    else:\n",
    "        if wedg[inp]==1 or wedg[inp]==-1:\n",
    "            return(\"always\")\n",
    "\n",
    "        if wedg[inp] not in res and -(wedg[inp]) not in res:\n",
    "            return(res.append(wedg[inp]))\n",
    "    return(res)"
   ]
  },
  {
   "cell_type": "code",
   "execution_count": 8,
   "id": "816890bd",
   "metadata": {},
   "outputs": [],
   "source": [
    "R6= Manifold(6,\"R^{6}\")\n",
    "chartR6.<x,y,u,u_x,u_y,u_yy> = R6.chart()\n",
    "\n",
    "eA = chartR6.frame()\n",
    " \n",
    "F = function('F',nargs=6)(*chartR6)\n",
    "G = function('G',nargs=6)(*chartR6)\n",
    "\n",
    "A4 = R6.one_form({eA:[1,0,0,0,0,0]}, name='\\Omega_4')\n",
    "A5 = R6.one_form({eA:[0,1,0,0,0,0]}, name='\\Omega_4')\n",
    "\n",
    "A1 = R6.one_form({eA:[-u_x,-u_y,1,0,0,0]}, name='\\Omega_1')\n",
    "A2 = R6.one_form({eA:[-F,-G,0,1,0,0]}, name='\\Omega_2')\n",
    "A3 = R6.one_form({eA:[-G,-u_yy,0,0,1,0]}, name='\\Omega_3')\n",
    "\n",
    "X, varx  = arb_vector_field( R6, chartR6, eA, \"X\")\n",
    "\n",
    "Y,varY = arb_vector_field( R6, chartR6, eA, \"Y\")\n",
    "\n",
    "\n",
    "\n",
    "dA2=A2.exterior_derivative()\n",
    "dA1=A1.exterior_derivative()\n",
    "dA3=A3.exterior_derivative()\n",
    "Ideal = [A1,A2,A3,dA1,dA2,dA3]\n",
    "Independence = [A4,A5]"
   ]
  },
  {
   "cell_type": "code",
   "execution_count": 9,
   "id": "425dc2a7",
   "metadata": {},
   "outputs": [],
   "source": [
    "X, varx  = arb_vector_field( R6, chartR6, eA, \"X\")\n",
    "Y,varY = arb_vector_field( R6, chartR6, eA, \"Y\")"
   ]
  },
  {
   "cell_type": "code",
   "execution_count": 10,
   "id": "4f518d82",
   "metadata": {
    "scrolled": true
   },
   "outputs": [
    {
     "name": "stdout",
     "output_type": "stream",
     "text": [
      "The torsion in the system is absorbable\n",
      "1 Dimensional Integral element exists iff diff(G(x, y, u, u_x, u_y, u_yy), u_yy)^2 - diff(F(x, y, u, u_x, u_y, u_yy), u_yy) = 0, -u_y*diff(F(x, y, u, u_x, u_y, u_yy), u_yy)*diff(G(x, y, u, u_x, u_y, u_yy), u) - G(x, y, u, u_x, u_y, u_yy)*diff(F(x, y, u, u_x, u_y, u_yy), u_yy)*diff(G(x, y, u, u_x, u_y, u_yy), u_x) - u_yy*diff(F(x, y, u, u_x, u_y, u_yy), u_yy)*diff(G(x, y, u, u_x, u_y, u_yy), u_y) + u_y*diff(F(x, y, u, u_x, u_y, u_yy), u)*diff(G(x, y, u, u_x, u_y, u_yy), u_yy) + G(x, y, u, u_x, u_y, u_yy)*diff(F(x, y, u, u_x, u_y, u_yy), u_x)*diff(G(x, y, u, u_x, u_y, u_yy), u_yy) + u_yy*diff(F(x, y, u, u_x, u_y, u_yy), u_y)*diff(G(x, y, u, u_x, u_y, u_yy), u_yy) - u_x*diff(G(x, y, u, u_x, u_y, u_yy), u)*diff(G(x, y, u, u_x, u_y, u_yy), u_yy) - F(x, y, u, u_x, u_y, u_yy)*diff(G(x, y, u, u_x, u_y, u_yy), u_x)*diff(G(x, y, u, u_x, u_y, u_yy), u_yy) - G(x, y, u, u_x, u_y, u_yy)*diff(G(x, y, u, u_x, u_y, u_yy), u_y)*diff(G(x, y, u, u_x, u_y, u_yy), u_yy) - diff(F(x, y, u, u_x, u_y, u_yy), u_yy)*diff(G(x, y, u, u_x, u_y, u_yy), y) + diff(F(x, y, u, u_x, u_y, u_yy), y)*diff(G(x, y, u, u_x, u_y, u_yy), u_yy) - diff(G(x, y, u, u_x, u_y, u_yy), x)*diff(G(x, y, u, u_x, u_y, u_yy), u_yy) = 0\n"
     ]
    }
   ],
   "source": [
    "X[:], Y[:], cond = Torsion_checker(Ideal, Independence, X, Y, R6, varx+varY, [])"
   ]
  },
  {
   "cell_type": "code",
   "execution_count": 11,
   "id": "7171ba06",
   "metadata": {},
   "outputs": [
    {
     "data": {
      "text/html": [
       "<html>\\[\\newcommand{\\Bold}[1]{\\mathbf{#1}}\\begin{array}{llcl} \\mathrm{d}\\Omega_2\\left(X,Y\\right):& R^{6} & \\longrightarrow & \\mathbb{R} \\\\ & \\left(x, y, u, u_{x}, u_{y}, u_{\\mathit{yy}}\\right) & \\longmapsto & 0 \\end{array}\\]</html>"
      ],
      "text/latex": [
       "$$\\newcommand{\\Bold}[1]{\\mathbf{#1}}\\begin{array}{llcl} \\mathrm{d}\\Omega_2\\left(X,Y\\right):& R^{6} & \\longrightarrow & \\mathbb{R} \\\\ & \\left(x, y, u, u_{x}, u_{y}, u_{\\mathit{yy}}\\right) & \\longmapsto & 0 \\end{array}$$"
      ],
      "text/plain": [
       "d\\Omega_2(X,Y): R^{6} → ℝ\n",
       "   (x, y, u, u_x, u_y, u_yy) ↦ 0"
      ]
     },
     "execution_count": 11,
     "metadata": {},
     "output_type": "execute_result"
    }
   ],
   "source": [
    "dA2(X,Y).display()"
   ]
  },
  {
   "cell_type": "code",
   "execution_count": 12,
   "id": "2f1f6849",
   "metadata": {},
   "outputs": [
    {
     "data": {
      "text/html": [
       "<html>\\[\\newcommand{\\Bold}[1]{\\mathbf{#1}}\\frac{\\partial}{\\partial u_{\\mathit{yy}}}G\\left(x, y, u, u_{x}, u_{y}, u_{\\mathit{yy}}\\right)^{2} - \\frac{\\partial}{\\partial u_{\\mathit{yy}}}F\\left(x, y, u, u_{x}, u_{y}, u_{\\mathit{yy}}\\right)\\]</html>"
      ],
      "text/latex": [
       "$$\\newcommand{\\Bold}[1]{\\mathbf{#1}}\\frac{\\partial}{\\partial u_{\\mathit{yy}}}G\\left(x, y, u, u_{x}, u_{y}, u_{\\mathit{yy}}\\right)^{2} - \\frac{\\partial}{\\partial u_{\\mathit{yy}}}F\\left(x, y, u, u_{x}, u_{y}, u_{\\mathit{yy}}\\right)$$"
      ],
      "text/plain": [
       "diff(G(x, y, u, u_x, u_y, u_yy), u_yy)^2 - diff(F(x, y, u, u_x, u_y, u_yy), u_yy)"
      ]
     },
     "execution_count": 12,
     "metadata": {},
     "output_type": "execute_result"
    }
   ],
   "source": [
    "cond[0]"
   ]
  },
  {
   "cell_type": "code",
   "execution_count": 13,
   "id": "ba509050",
   "metadata": {},
   "outputs": [
    {
     "data": {
      "text/html": [
       "<html>\\[\\newcommand{\\Bold}[1]{\\mathbf{#1}}\\mathrm{d}\\Omega_2 = \\left( \\frac{\\partial\\,F}{\\partial y} - \\frac{\\partial\\,G}{\\partial x} \\right) \\mathrm{d} x\\wedge \\mathrm{d} y + \\frac{\\partial\\,F}{\\partial u} \\mathrm{d} x\\wedge \\mathrm{d} u + \\frac{\\partial\\,F}{\\partial u_{x}} \\mathrm{d} x\\wedge \\mathrm{d} u_{x} + \\frac{\\partial\\,F}{\\partial u_{y}} \\mathrm{d} x\\wedge \\mathrm{d} u_{y} + \\frac{\\partial\\,F}{\\partial u_{\\mathit{yy}}} \\mathrm{d} x\\wedge \\mathrm{d} u_{\\mathit{yy}} + \\frac{\\partial\\,G}{\\partial u} \\mathrm{d} y\\wedge \\mathrm{d} u + \\frac{\\partial\\,G}{\\partial u_{x}} \\mathrm{d} y\\wedge \\mathrm{d} u_{x} + \\frac{\\partial\\,G}{\\partial u_{y}} \\mathrm{d} y\\wedge \\mathrm{d} u_{y} + \\frac{\\partial\\,G}{\\partial u_{\\mathit{yy}}} \\mathrm{d} y\\wedge \\mathrm{d} u_{\\mathit{yy}}\\]</html>"
      ],
      "text/latex": [
       "$$\\newcommand{\\Bold}[1]{\\mathbf{#1}}\\mathrm{d}\\Omega_2 = \\left( \\frac{\\partial\\,F}{\\partial y} - \\frac{\\partial\\,G}{\\partial x} \\right) \\mathrm{d} x\\wedge \\mathrm{d} y + \\frac{\\partial\\,F}{\\partial u} \\mathrm{d} x\\wedge \\mathrm{d} u + \\frac{\\partial\\,F}{\\partial u_{x}} \\mathrm{d} x\\wedge \\mathrm{d} u_{x} + \\frac{\\partial\\,F}{\\partial u_{y}} \\mathrm{d} x\\wedge \\mathrm{d} u_{y} + \\frac{\\partial\\,F}{\\partial u_{\\mathit{yy}}} \\mathrm{d} x\\wedge \\mathrm{d} u_{\\mathit{yy}} + \\frac{\\partial\\,G}{\\partial u} \\mathrm{d} y\\wedge \\mathrm{d} u + \\frac{\\partial\\,G}{\\partial u_{x}} \\mathrm{d} y\\wedge \\mathrm{d} u_{x} + \\frac{\\partial\\,G}{\\partial u_{y}} \\mathrm{d} y\\wedge \\mathrm{d} u_{y} + \\frac{\\partial\\,G}{\\partial u_{\\mathit{yy}}} \\mathrm{d} y\\wedge \\mathrm{d} u_{\\mathit{yy}}$$"
      ],
      "text/plain": [
       "d\\Omega_2 = (d(F)/dy - d(G)/dx) dx∧dy + d(F)/du dx∧du + d(F)/du_x dx∧du_x + d(F)/du_y dx∧du_y + d(F)/du_yy dx∧du_yy + d(G)/du dy∧du + d(G)/du_x dy∧du_x + d(G)/du_y dy∧du_y + d(G)/du_yy dy∧du_yy"
      ]
     },
     "execution_count": 13,
     "metadata": {},
     "output_type": "execute_result"
    }
   ],
   "source": [
    "dA2.display()"
   ]
  },
  {
   "cell_type": "code",
   "execution_count": 14,
   "id": "9da46fda",
   "metadata": {},
   "outputs": [],
   "source": [
    "dA2[0,5] = diff(G,u_yy)\n"
   ]
  },
  {
   "cell_type": "code",
   "execution_count": 15,
   "id": "3f6b780c",
   "metadata": {},
   "outputs": [
    {
     "name": "stdout",
     "output_type": "stream",
     "text": [
      "The torsion in the system is absorbable\n",
      "1 Dimensional Integral element exists iff diff(G(x, y, u, u_x, u_y, u_yy), u_yy) - 1 = 0, u_y*diff(F(x, y, u, u_x, u_y, u_yy), u) + G(x, y, u, u_x, u_y, u_yy)*diff(F(x, y, u, u_x, u_y, u_yy), u_x) + u_yy*diff(F(x, y, u, u_x, u_y, u_yy), u_y) - u_x*diff(G(x, y, u, u_x, u_y, u_yy), u) - u_y*diff(G(x, y, u, u_x, u_y, u_yy), u) - F(x, y, u, u_x, u_y, u_yy)*diff(G(x, y, u, u_x, u_y, u_yy), u_x) - G(x, y, u, u_x, u_y, u_yy)*diff(G(x, y, u, u_x, u_y, u_yy), u_x) - u_yy*diff(G(x, y, u, u_x, u_y, u_yy), u_y) - G(x, y, u, u_x, u_y, u_yy)*diff(G(x, y, u, u_x, u_y, u_yy), u_y) + diff(F(x, y, u, u_x, u_y, u_yy), y) - diff(G(x, y, u, u_x, u_y, u_yy), x) - diff(G(x, y, u, u_x, u_y, u_yy), y) = 0\n",
      "2 Dimensional Integral element exists iff diff(G(x, y, u, u_x, u_y, u_yy), u_yy)^2 - diff(G(x, y, u, u_x, u_y, u_yy), u_yy) = 0, -u_y*diff(G(x, y, u, u_x, u_y, u_yy), u)*diff(G(x, y, u, u_x, u_y, u_yy), u_yy) - G(x, y, u, u_x, u_y, u_yy)*diff(G(x, y, u, u_x, u_y, u_yy), u_x)*diff(G(x, y, u, u_x, u_y, u_yy), u_yy) - u_yy*diff(G(x, y, u, u_x, u_y, u_yy), u_y)*diff(G(x, y, u, u_x, u_y, u_yy), u_yy) + u_y*diff(F(x, y, u, u_x, u_y, u_yy), u) + G(x, y, u, u_x, u_y, u_yy)*diff(F(x, y, u, u_x, u_y, u_yy), u_x) + u_yy*diff(F(x, y, u, u_x, u_y, u_yy), u_y) - u_x*diff(G(x, y, u, u_x, u_y, u_yy), u) - F(x, y, u, u_x, u_y, u_yy)*diff(G(x, y, u, u_x, u_y, u_yy), u_x) - G(x, y, u, u_x, u_y, u_yy)*diff(G(x, y, u, u_x, u_y, u_yy), u_y) - diff(G(x, y, u, u_x, u_y, u_yy), y)*diff(G(x, y, u, u_x, u_y, u_yy), u_yy) + diff(F(x, y, u, u_x, u_y, u_yy), y) - diff(G(x, y, u, u_x, u_y, u_yy), x) = 0\n"
     ]
    }
   ],
   "source": [
    "X, varx  = arb_vector_field( R6, chartR6, eA, \"X\")\n",
    "Y,varY = arb_vector_field( R6, chartR6, eA, \"Y\")\n",
    "X[:], Y[:], cond = Torsion_checker(Ideal, Independence, X, Y, R6, varx+varY, [])"
   ]
  },
  {
   "cell_type": "code",
   "execution_count": 16,
   "id": "dfe8d9d0",
   "metadata": {},
   "outputs": [
    {
     "data": {
      "text/html": [
       "<html>\\[\\newcommand{\\Bold}[1]{\\mathbf{#1}}\\left(\\frac{u_{y} \\frac{\\partial\\,F}{\\partial u} + G\\left(x, y, u, u_{x}, u_{y}, u_{\\mathit{yy}}\\right) \\frac{\\partial\\,F}{\\partial u_{x}} + u_{\\mathit{yy}} \\frac{\\partial\\,F}{\\partial u_{y}} - {\\left(u_{x} + u_{y}\\right)} \\frac{\\partial\\,G}{\\partial u} - {\\left(F\\left(x, y, u, u_{x}, u_{y}, u_{\\mathit{yy}}\\right) + G\\left(x, y, u, u_{x}, u_{y}, u_{\\mathit{yy}}\\right)\\right)} \\frac{\\partial\\,G}{\\partial u_{x}} - {\\left(u_{\\mathit{yy}} + G\\left(x, y, u, u_{x}, u_{y}, u_{\\mathit{yy}}\\right)\\right)} \\frac{\\partial\\,G}{\\partial u_{y}} + \\frac{\\partial\\,F}{\\partial y} - \\frac{\\partial\\,G}{\\partial x} - \\frac{\\partial\\,G}{\\partial y}}{\\frac{\\partial\\,G}{\\partial u_{\\mathit{yy}}} - 1}, \\frac{u_{y} \\frac{\\partial\\,F}{\\partial u} + G\\left(x, y, u, u_{x}, u_{y}, u_{\\mathit{yy}}\\right) \\frac{\\partial\\,F}{\\partial u_{x}} + u_{\\mathit{yy}} \\frac{\\partial\\,F}{\\partial u_{y}} - u_{x} \\frac{\\partial\\,G}{\\partial u} - F\\left(x, y, u, u_{x}, u_{y}, u_{\\mathit{yy}}\\right) \\frac{\\partial\\,G}{\\partial u_{x}} - G\\left(x, y, u, u_{x}, u_{y}, u_{\\mathit{yy}}\\right) \\frac{\\partial\\,G}{\\partial u_{y}} - {\\left(u_{y} \\frac{\\partial\\,G}{\\partial u} + G\\left(x, y, u, u_{x}, u_{y}, u_{\\mathit{yy}}\\right) \\frac{\\partial\\,G}{\\partial u_{x}} + u_{\\mathit{yy}} \\frac{\\partial\\,G}{\\partial u_{y}}\\right)} \\frac{\\partial\\,G}{\\partial u_{\\mathit{yy}}} - \\frac{\\partial\\,G}{\\partial y} \\frac{\\partial\\,G}{\\partial u_{\\mathit{yy}}} + \\frac{\\partial\\,F}{\\partial y} - \\frac{\\partial\\,G}{\\partial x}}{\\frac{\\partial\\,G}{\\partial u_{\\mathit{yy}}}^{2} - \\frac{\\partial\\,G}{\\partial u_{\\mathit{yy}}}}\\right)\\]</html>"
      ],
      "text/latex": [
       "$$\\newcommand{\\Bold}[1]{\\mathbf{#1}}\\left(\\frac{u_{y} \\frac{\\partial\\,F}{\\partial u} + G\\left(x, y, u, u_{x}, u_{y}, u_{\\mathit{yy}}\\right) \\frac{\\partial\\,F}{\\partial u_{x}} + u_{\\mathit{yy}} \\frac{\\partial\\,F}{\\partial u_{y}} - {\\left(u_{x} + u_{y}\\right)} \\frac{\\partial\\,G}{\\partial u} - {\\left(F\\left(x, y, u, u_{x}, u_{y}, u_{\\mathit{yy}}\\right) + G\\left(x, y, u, u_{x}, u_{y}, u_{\\mathit{yy}}\\right)\\right)} \\frac{\\partial\\,G}{\\partial u_{x}} - {\\left(u_{\\mathit{yy}} + G\\left(x, y, u, u_{x}, u_{y}, u_{\\mathit{yy}}\\right)\\right)} \\frac{\\partial\\,G}{\\partial u_{y}} + \\frac{\\partial\\,F}{\\partial y} - \\frac{\\partial\\,G}{\\partial x} - \\frac{\\partial\\,G}{\\partial y}}{\\frac{\\partial\\,G}{\\partial u_{\\mathit{yy}}} - 1}, \\frac{u_{y} \\frac{\\partial\\,F}{\\partial u} + G\\left(x, y, u, u_{x}, u_{y}, u_{\\mathit{yy}}\\right) \\frac{\\partial\\,F}{\\partial u_{x}} + u_{\\mathit{yy}} \\frac{\\partial\\,F}{\\partial u_{y}} - u_{x} \\frac{\\partial\\,G}{\\partial u} - F\\left(x, y, u, u_{x}, u_{y}, u_{\\mathit{yy}}\\right) \\frac{\\partial\\,G}{\\partial u_{x}} - G\\left(x, y, u, u_{x}, u_{y}, u_{\\mathit{yy}}\\right) \\frac{\\partial\\,G}{\\partial u_{y}} - {\\left(u_{y} \\frac{\\partial\\,G}{\\partial u} + G\\left(x, y, u, u_{x}, u_{y}, u_{\\mathit{yy}}\\right) \\frac{\\partial\\,G}{\\partial u_{x}} + u_{\\mathit{yy}} \\frac{\\partial\\,G}{\\partial u_{y}}\\right)} \\frac{\\partial\\,G}{\\partial u_{\\mathit{yy}}} - \\frac{\\partial\\,G}{\\partial y} \\frac{\\partial\\,G}{\\partial u_{\\mathit{yy}}} + \\frac{\\partial\\,F}{\\partial y} - \\frac{\\partial\\,G}{\\partial x}}{\\frac{\\partial\\,G}{\\partial u_{\\mathit{yy}}}^{2} - \\frac{\\partial\\,G}{\\partial u_{\\mathit{yy}}}}\\right)$$"
      ],
      "text/plain": [
       "((u_y*d(F)/du + G(x, y, u, u_x, u_y, u_yy)*d(F)/du_x + u_yy*d(F)/du_y - (u_x + u_y)*d(G)/du - (F(x, y, u, u_x, u_y, u_yy) + G(x, y, u, u_x, u_y, u_yy))*d(G)/du_x - (u_yy + G(x, y, u, u_x, u_y, u_yy))*d(G)/du_y + d(F)/dy - d(G)/dx - d(G)/dy)/(d(G)/du_yy - 1),\n",
       " (u_y*d(F)/du + G(x, y, u, u_x, u_y, u_yy)*d(F)/du_x + u_yy*d(F)/du_y - u_x*d(G)/du - F(x, y, u, u_x, u_y, u_yy)*d(G)/du_x - G(x, y, u, u_x, u_y, u_yy)*d(G)/du_y - (u_y*d(G)/du + G(x, y, u, u_x, u_y, u_yy)*d(G)/du_x + u_yy*d(G)/du_y)*d(G)/du_yy - d(G)/dy*d(G)/du_yy + d(F)/dy - d(G)/dx)/(d(G)/du_yy^2 - d(G)/du_yy))"
      ]
     },
     "execution_count": 16,
     "metadata": {},
     "output_type": "execute_result"
    }
   ],
   "source": [
    "X[5], Y[5]"
   ]
  },
  {
   "cell_type": "code",
   "execution_count": 17,
   "id": "93e4ecff",
   "metadata": {},
   "outputs": [
    {
     "data": {
      "text/html": [
       "<html>\\[\\newcommand{\\Bold}[1]{\\mathbf{#1}}\\mathrm{d}\\Omega_3 = \\frac{\\partial\\,G}{\\partial y} \\mathrm{d} x\\wedge \\mathrm{d} y + \\frac{\\partial\\,G}{\\partial u} \\mathrm{d} x\\wedge \\mathrm{d} u + \\frac{\\partial\\,G}{\\partial u_{x}} \\mathrm{d} x\\wedge \\mathrm{d} u_{x} + \\frac{\\partial\\,G}{\\partial u_{y}} \\mathrm{d} x\\wedge \\mathrm{d} u_{y} +\\mathrm{d} x\\wedge \\mathrm{d} u_{\\mathit{yy}} +\\mathrm{d} y\\wedge \\mathrm{d} u_{\\mathit{yy}}\\]</html>"
      ],
      "text/latex": [
       "$$\\newcommand{\\Bold}[1]{\\mathbf{#1}}\\mathrm{d}\\Omega_3 = \\frac{\\partial\\,G}{\\partial y} \\mathrm{d} x\\wedge \\mathrm{d} y + \\frac{\\partial\\,G}{\\partial u} \\mathrm{d} x\\wedge \\mathrm{d} u + \\frac{\\partial\\,G}{\\partial u_{x}} \\mathrm{d} x\\wedge \\mathrm{d} u_{x} + \\frac{\\partial\\,G}{\\partial u_{y}} \\mathrm{d} x\\wedge \\mathrm{d} u_{y} +\\mathrm{d} x\\wedge \\mathrm{d} u_{\\mathit{yy}} +\\mathrm{d} y\\wedge \\mathrm{d} u_{\\mathit{yy}}$$"
      ],
      "text/plain": [
       "d\\Omega_3 = d(G)/dy dx∧dy + d(G)/du dx∧du + d(G)/du_x dx∧du_x + d(G)/du_y dx∧du_y + dx∧du_yy + dy∧du_yy"
      ]
     },
     "execution_count": 17,
     "metadata": {},
     "output_type": "execute_result"
    }
   ],
   "source": [
    "# dG/du_yy = 1\n",
    "dA2[0,5] = 1\n",
    "dA2[1,5] = 1\n",
    "dA3[0,5] = 1\n",
    "dA3.display()"
   ]
  },
  {
   "cell_type": "code",
   "execution_count": 18,
   "id": "ddaf8c3b",
   "metadata": {},
   "outputs": [
    {
     "data": {
      "text/html": [
       "<html>\\[\\newcommand{\\Bold}[1]{\\mathbf{#1}}\\left(\\left(x, y, u, u_{x}, u_{y}, u_{\\mathit{yy}}\\right) \\mapsto \\frac{u_{y} \\frac{\\partial\\,F}{\\partial u} + G\\left(x, y, u, u_{x}, u_{y}, u_{\\mathit{yy}}\\right) \\frac{\\partial\\,F}{\\partial u_{x}} + u_{\\mathit{yy}} \\frac{\\partial\\,F}{\\partial u_{y}} - {\\left(u_{x} + u_{y}\\right)} \\frac{\\partial\\,G}{\\partial u} - {\\left(F\\left(x, y, u, u_{x}, u_{y}, u_{\\mathit{yy}}\\right) + G\\left(x, y, u, u_{x}, u_{y}, u_{\\mathit{yy}}\\right)\\right)} \\frac{\\partial\\,G}{\\partial u_{x}} - {\\left(u_{\\mathit{yy}} + G\\left(x, y, u, u_{x}, u_{y}, u_{\\mathit{yy}}\\right)\\right)} \\frac{\\partial\\,G}{\\partial u_{y}} + \\frac{\\partial\\,F}{\\partial y} - \\frac{\\partial\\,G}{\\partial x} - \\frac{\\partial\\,G}{\\partial y}}{\\frac{\\partial\\,G}{\\partial u_{\\mathit{yy}}} - 1}, \\left(x, y, u, u_{x}, u_{y}, u_{\\mathit{yy}}\\right) \\mapsto \\frac{u_{y} \\frac{\\partial\\,F}{\\partial u} + G\\left(x, y, u, u_{x}, u_{y}, u_{\\mathit{yy}}\\right) \\frac{\\partial\\,F}{\\partial u_{x}} + u_{\\mathit{yy}} \\frac{\\partial\\,F}{\\partial u_{y}} - u_{x} \\frac{\\partial\\,G}{\\partial u} - F\\left(x, y, u, u_{x}, u_{y}, u_{\\mathit{yy}}\\right) \\frac{\\partial\\,G}{\\partial u_{x}} - G\\left(x, y, u, u_{x}, u_{y}, u_{\\mathit{yy}}\\right) \\frac{\\partial\\,G}{\\partial u_{y}} - {\\left(u_{y} \\frac{\\partial\\,G}{\\partial u} + G\\left(x, y, u, u_{x}, u_{y}, u_{\\mathit{yy}}\\right) \\frac{\\partial\\,G}{\\partial u_{x}} + u_{\\mathit{yy}} \\frac{\\partial\\,G}{\\partial u_{y}}\\right)} \\frac{\\partial\\,G}{\\partial u_{\\mathit{yy}}} - \\frac{\\partial\\,G}{\\partial y} \\frac{\\partial\\,G}{\\partial u_{\\mathit{yy}}} + \\frac{\\partial\\,F}{\\partial y} - \\frac{\\partial\\,G}{\\partial x}}{\\frac{\\partial\\,G}{\\partial u_{\\mathit{yy}}}^{2} - \\frac{\\partial\\,G}{\\partial u_{\\mathit{yy}}}}\\right)\\]</html>"
      ],
      "text/latex": [
       "$$\\newcommand{\\Bold}[1]{\\mathbf{#1}}\\left(\\left(x, y, u, u_{x}, u_{y}, u_{\\mathit{yy}}\\right) \\mapsto \\frac{u_{y} \\frac{\\partial\\,F}{\\partial u} + G\\left(x, y, u, u_{x}, u_{y}, u_{\\mathit{yy}}\\right) \\frac{\\partial\\,F}{\\partial u_{x}} + u_{\\mathit{yy}} \\frac{\\partial\\,F}{\\partial u_{y}} - {\\left(u_{x} + u_{y}\\right)} \\frac{\\partial\\,G}{\\partial u} - {\\left(F\\left(x, y, u, u_{x}, u_{y}, u_{\\mathit{yy}}\\right) + G\\left(x, y, u, u_{x}, u_{y}, u_{\\mathit{yy}}\\right)\\right)} \\frac{\\partial\\,G}{\\partial u_{x}} - {\\left(u_{\\mathit{yy}} + G\\left(x, y, u, u_{x}, u_{y}, u_{\\mathit{yy}}\\right)\\right)} \\frac{\\partial\\,G}{\\partial u_{y}} + \\frac{\\partial\\,F}{\\partial y} - \\frac{\\partial\\,G}{\\partial x} - \\frac{\\partial\\,G}{\\partial y}}{\\frac{\\partial\\,G}{\\partial u_{\\mathit{yy}}} - 1}, \\left(x, y, u, u_{x}, u_{y}, u_{\\mathit{yy}}\\right) \\mapsto \\frac{u_{y} \\frac{\\partial\\,F}{\\partial u} + G\\left(x, y, u, u_{x}, u_{y}, u_{\\mathit{yy}}\\right) \\frac{\\partial\\,F}{\\partial u_{x}} + u_{\\mathit{yy}} \\frac{\\partial\\,F}{\\partial u_{y}} - u_{x} \\frac{\\partial\\,G}{\\partial u} - F\\left(x, y, u, u_{x}, u_{y}, u_{\\mathit{yy}}\\right) \\frac{\\partial\\,G}{\\partial u_{x}} - G\\left(x, y, u, u_{x}, u_{y}, u_{\\mathit{yy}}\\right) \\frac{\\partial\\,G}{\\partial u_{y}} - {\\left(u_{y} \\frac{\\partial\\,G}{\\partial u} + G\\left(x, y, u, u_{x}, u_{y}, u_{\\mathit{yy}}\\right) \\frac{\\partial\\,G}{\\partial u_{x}} + u_{\\mathit{yy}} \\frac{\\partial\\,G}{\\partial u_{y}}\\right)} \\frac{\\partial\\,G}{\\partial u_{\\mathit{yy}}} - \\frac{\\partial\\,G}{\\partial y} \\frac{\\partial\\,G}{\\partial u_{\\mathit{yy}}} + \\frac{\\partial\\,F}{\\partial y} - \\frac{\\partial\\,G}{\\partial x}}{\\frac{\\partial\\,G}{\\partial u_{\\mathit{yy}}}^{2} - \\frac{\\partial\\,G}{\\partial u_{\\mathit{yy}}}}\\right)$$"
      ],
      "text/plain": [
       "((x, y, u, u_x, u_y, u_yy) ↦ (u_y*d(F)/du + G(x, y, u, u_x, u_y, u_yy)*d(F)/du_x + u_yy*d(F)/du_y - (u_x + u_y)*d(G)/du - (F(x, y, u, u_x, u_y, u_yy) + G(x, y, u, u_x, u_y, u_yy))*d(G)/du_x - (u_yy + G(x, y, u, u_x, u_y, u_yy))*d(G)/du_y + d(F)/dy - d(G)/dx - d(G)/dy)/(d(G)/du_yy - 1),\n",
       " (x, y, u, u_x, u_y, u_yy) ↦ (u_y*d(F)/du + G(x, y, u, u_x, u_y, u_yy)*d(F)/du_x + u_yy*d(F)/du_y - u_x*d(G)/du - F(x, y, u, u_x, u_y, u_yy)*d(G)/du_x - G(x, y, u, u_x, u_y, u_yy)*d(G)/du_y - (u_y*d(G)/du + G(x, y, u, u_x, u_y, u_yy)*d(G)/du_x + u_yy*d(G)/du_y)*d(G)/du_yy - d(G)/dy*d(G)/du_yy + d(F)/dy - d(G)/dx)/(d(G)/du_yy^2 - d(G)/du_yy))"
      ]
     },
     "execution_count": 18,
     "metadata": {},
     "output_type": "execute_result"
    }
   ],
   "source": [
    "X[5].display(), Y[5].display()"
   ]
  },
  {
   "cell_type": "code",
   "execution_count": 19,
   "id": "f2d502f7",
   "metadata": {},
   "outputs": [],
   "source": [
    "locals()[\"a\"] = var('a')\n",
    "X[5] = a\n",
    "Y[5] = a"
   ]
  },
  {
   "cell_type": "code",
   "execution_count": 20,
   "id": "1085a4fb",
   "metadata": {},
   "outputs": [
    {
     "data": {
      "text/html": [
       "<html>\\[\\newcommand{\\Bold}[1]{\\mathbf{#1}}\\begin{array}{llcl} \\mathrm{d}\\Omega_2\\left(X,Y\\right):& R^{6} & \\longrightarrow & \\mathbb{R} \\\\ & \\left(x, y, u, u_{x}, u_{y}, u_{\\mathit{yy}}\\right) & \\longmapsto & u_{y} \\frac{\\partial\\,F}{\\partial u} + G\\left(x, y, u, u_{x}, u_{y}, u_{\\mathit{yy}}\\right) \\frac{\\partial\\,F}{\\partial u_{x}} + u_{\\mathit{yy}} \\frac{\\partial\\,F}{\\partial u_{y}} - u_{x} \\frac{\\partial\\,G}{\\partial u} - F\\left(x, y, u, u_{x}, u_{y}, u_{\\mathit{yy}}\\right) \\frac{\\partial\\,G}{\\partial u_{x}} - G\\left(x, y, u, u_{x}, u_{y}, u_{\\mathit{yy}}\\right) \\frac{\\partial\\,G}{\\partial u_{y}} + \\frac{\\partial\\,F}{\\partial y} - \\frac{\\partial\\,G}{\\partial x} \\end{array}\\]</html>"
      ],
      "text/latex": [
       "$$\\newcommand{\\Bold}[1]{\\mathbf{#1}}\\begin{array}{llcl} \\mathrm{d}\\Omega_2\\left(X,Y\\right):& R^{6} & \\longrightarrow & \\mathbb{R} \\\\ & \\left(x, y, u, u_{x}, u_{y}, u_{\\mathit{yy}}\\right) & \\longmapsto & u_{y} \\frac{\\partial\\,F}{\\partial u} + G\\left(x, y, u, u_{x}, u_{y}, u_{\\mathit{yy}}\\right) \\frac{\\partial\\,F}{\\partial u_{x}} + u_{\\mathit{yy}} \\frac{\\partial\\,F}{\\partial u_{y}} - u_{x} \\frac{\\partial\\,G}{\\partial u} - F\\left(x, y, u, u_{x}, u_{y}, u_{\\mathit{yy}}\\right) \\frac{\\partial\\,G}{\\partial u_{x}} - G\\left(x, y, u, u_{x}, u_{y}, u_{\\mathit{yy}}\\right) \\frac{\\partial\\,G}{\\partial u_{y}} + \\frac{\\partial\\,F}{\\partial y} - \\frac{\\partial\\,G}{\\partial x} \\end{array}$$"
      ],
      "text/plain": [
       "d\\Omega_2(X,Y): R^{6} → ℝ\n",
       "   (x, y, u, u_x, u_y, u_yy) ↦ u_y*d(F)/du + G(x, y, u, u_x, u_y, u_yy)*d(F)/du_x + u_yy*d(F)/du_y - u_x*d(G)/du - F(x, y, u, u_x, u_y, u_yy)*d(G)/du_x - G(x, y, u, u_x, u_y, u_yy)*d(G)/du_y + d(F)/dy - d(G)/dx"
      ]
     },
     "execution_count": 20,
     "metadata": {},
     "output_type": "execute_result"
    }
   ],
   "source": [
    "dA2(X,Y).display()"
   ]
  },
  {
   "cell_type": "code",
   "execution_count": 21,
   "id": "800188de",
   "metadata": {},
   "outputs": [
    {
     "data": {
      "text/html": [
       "<html>\\[\\newcommand{\\Bold}[1]{\\mathbf{#1}}\\mathrm{d}\\Omega_2 = \\left( -u_{y} \\frac{\\partial\\,F}{\\partial u} - G\\left(x, y, u, u_{x}, u_{y}, u_{\\mathit{yy}}\\right) \\frac{\\partial\\,F}{\\partial u_{x}} - u_{\\mathit{yy}} \\frac{\\partial\\,F}{\\partial u_{y}} + u_{x} \\frac{\\partial\\,G}{\\partial u} + F\\left(x, y, u, u_{x}, u_{y}, u_{\\mathit{yy}}\\right) \\frac{\\partial\\,G}{\\partial u_{x}} + G\\left(x, y, u, u_{x}, u_{y}, u_{\\mathit{yy}}\\right) \\frac{\\partial\\,G}{\\partial u_{y}} \\right) \\mathrm{d} x\\wedge \\mathrm{d} y + \\frac{\\partial\\,F}{\\partial u} \\mathrm{d} x\\wedge \\mathrm{d} u + \\frac{\\partial\\,F}{\\partial u_{x}} \\mathrm{d} x\\wedge \\mathrm{d} u_{x} + \\frac{\\partial\\,F}{\\partial u_{y}} \\mathrm{d} x\\wedge \\mathrm{d} u_{y} +\\mathrm{d} x\\wedge \\mathrm{d} u_{\\mathit{yy}} + \\frac{\\partial\\,G}{\\partial u} \\mathrm{d} y\\wedge \\mathrm{d} u + \\frac{\\partial\\,G}{\\partial u_{x}} \\mathrm{d} y\\wedge \\mathrm{d} u_{x} + \\frac{\\partial\\,G}{\\partial u_{y}} \\mathrm{d} y\\wedge \\mathrm{d} u_{y} +\\mathrm{d} y\\wedge \\mathrm{d} u_{\\mathit{yy}}\\]</html>"
      ],
      "text/latex": [
       "$$\\newcommand{\\Bold}[1]{\\mathbf{#1}}\\mathrm{d}\\Omega_2 = \\left( -u_{y} \\frac{\\partial\\,F}{\\partial u} - G\\left(x, y, u, u_{x}, u_{y}, u_{\\mathit{yy}}\\right) \\frac{\\partial\\,F}{\\partial u_{x}} - u_{\\mathit{yy}} \\frac{\\partial\\,F}{\\partial u_{y}} + u_{x} \\frac{\\partial\\,G}{\\partial u} + F\\left(x, y, u, u_{x}, u_{y}, u_{\\mathit{yy}}\\right) \\frac{\\partial\\,G}{\\partial u_{x}} + G\\left(x, y, u, u_{x}, u_{y}, u_{\\mathit{yy}}\\right) \\frac{\\partial\\,G}{\\partial u_{y}} \\right) \\mathrm{d} x\\wedge \\mathrm{d} y + \\frac{\\partial\\,F}{\\partial u} \\mathrm{d} x\\wedge \\mathrm{d} u + \\frac{\\partial\\,F}{\\partial u_{x}} \\mathrm{d} x\\wedge \\mathrm{d} u_{x} + \\frac{\\partial\\,F}{\\partial u_{y}} \\mathrm{d} x\\wedge \\mathrm{d} u_{y} +\\mathrm{d} x\\wedge \\mathrm{d} u_{\\mathit{yy}} + \\frac{\\partial\\,G}{\\partial u} \\mathrm{d} y\\wedge \\mathrm{d} u + \\frac{\\partial\\,G}{\\partial u_{x}} \\mathrm{d} y\\wedge \\mathrm{d} u_{x} + \\frac{\\partial\\,G}{\\partial u_{y}} \\mathrm{d} y\\wedge \\mathrm{d} u_{y} +\\mathrm{d} y\\wedge \\mathrm{d} u_{\\mathit{yy}}$$"
      ],
      "text/plain": [
       "d\\Omega_2 = (-u_y*d(F)/du - G(x, y, u, u_x, u_y, u_yy)*d(F)/du_x - u_yy*d(F)/du_y + u_x*d(G)/du + F(x, y, u, u_x, u_y, u_yy)*d(G)/du_x + G(x, y, u, u_x, u_y, u_yy)*d(G)/du_y) dx∧dy + d(F)/du dx∧du + d(F)/du_x dx∧du_x + d(F)/du_y dx∧du_y + dx∧du_yy + d(G)/du dy∧du + d(G)/du_x dy∧du_x + d(G)/du_y dy∧du_y + dy∧du_yy"
      ]
     },
     "execution_count": 21,
     "metadata": {},
     "output_type": "execute_result"
    }
   ],
   "source": [
    "#dG/dx\n",
    "cond_dg_dx = -u_y*diff(F, u) - G*diff(F, u_x) - u_yy*diff(F, u_y) + u_x*diff(G, u) + F*diff(G, u_x) + G*diff(G, u_y)\n",
    "dA2[0,1] = cond_dg_dx\n",
    "dA2.display()"
   ]
  },
  {
   "cell_type": "code",
   "execution_count": 22,
   "id": "1dd22c24",
   "metadata": {},
   "outputs": [
    {
     "data": {
      "text/html": [
       "<html>\\[\\newcommand{\\Bold}[1]{\\mathbf{#1}}\\begin{array}{llcl} \\mathrm{d}\\Omega_2\\left(X,Y\\right):& R^{6} & \\longrightarrow & \\mathbb{R} \\\\ & \\left(x, y, u, u_{x}, u_{y}, u_{\\mathit{yy}}\\right) & \\longmapsto & 0 \\end{array}\\]</html>"
      ],
      "text/latex": [
       "$$\\newcommand{\\Bold}[1]{\\mathbf{#1}}\\begin{array}{llcl} \\mathrm{d}\\Omega_2\\left(X,Y\\right):& R^{6} & \\longrightarrow & \\mathbb{R} \\\\ & \\left(x, y, u, u_{x}, u_{y}, u_{\\mathit{yy}}\\right) & \\longmapsto & 0 \\end{array}$$"
      ],
      "text/plain": [
       "d\\Omega_2(X,Y): R^{6} → ℝ\n",
       "   (x, y, u, u_x, u_y, u_yy) ↦ 0"
      ]
     },
     "execution_count": 22,
     "metadata": {},
     "output_type": "execute_result"
    }
   ],
   "source": [
    "dA2(X,Y).display()"
   ]
  },
  {
   "cell_type": "code",
   "execution_count": 23,
   "id": "a96e3f85",
   "metadata": {},
   "outputs": [
    {
     "data": {
      "text/html": [
       "<html>\\[\\newcommand{\\Bold}[1]{\\mathbf{#1}}\\begin{array}{llcl} \\mathrm{d}\\Omega_3\\left(X,Y\\right):& R^{6} & \\longrightarrow & \\mathbb{R} \\\\ & \\left(x, y, u, u_{x}, u_{y}, u_{\\mathit{yy}}\\right) & \\longmapsto & u_{y} \\frac{\\partial\\,G}{\\partial u} + G\\left(x, y, u, u_{x}, u_{y}, u_{\\mathit{yy}}\\right) \\frac{\\partial\\,G}{\\partial u_{x}} + u_{\\mathit{yy}} \\frac{\\partial\\,G}{\\partial u_{y}} + \\frac{\\partial\\,G}{\\partial y} \\end{array}\\]</html>"
      ],
      "text/latex": [
       "$$\\newcommand{\\Bold}[1]{\\mathbf{#1}}\\begin{array}{llcl} \\mathrm{d}\\Omega_3\\left(X,Y\\right):& R^{6} & \\longrightarrow & \\mathbb{R} \\\\ & \\left(x, y, u, u_{x}, u_{y}, u_{\\mathit{yy}}\\right) & \\longmapsto & u_{y} \\frac{\\partial\\,G}{\\partial u} + G\\left(x, y, u, u_{x}, u_{y}, u_{\\mathit{yy}}\\right) \\frac{\\partial\\,G}{\\partial u_{x}} + u_{\\mathit{yy}} \\frac{\\partial\\,G}{\\partial u_{y}} + \\frac{\\partial\\,G}{\\partial y} \\end{array}$$"
      ],
      "text/plain": [
       "d\\Omega_3(X,Y): R^{6} → ℝ\n",
       "   (x, y, u, u_x, u_y, u_yy) ↦ u_y*d(G)/du + G(x, y, u, u_x, u_y, u_yy)*d(G)/du_x + u_yy*d(G)/du_y + d(G)/dy"
      ]
     },
     "execution_count": 23,
     "metadata": {},
     "output_type": "execute_result"
    }
   ],
   "source": [
    "dA3(X,Y).display()"
   ]
  },
  {
   "cell_type": "code",
   "execution_count": 24,
   "id": "648cc9d5",
   "metadata": {},
   "outputs": [],
   "source": [
    "cond_dg_dy = -u_y*diff(G,u)-G*diff(G,u_x)- u_yy*diff(G, u_y)\n",
    "dA3[0,1] = cond_dg_dy"
   ]
  },
  {
   "cell_type": "code",
   "execution_count": 25,
   "id": "380c6712",
   "metadata": {},
   "outputs": [
    {
     "data": {
      "text/html": [
       "<html>\\[\\newcommand{\\Bold}[1]{\\mathbf{#1}}\\mathrm{d}\\Omega_3 = \\left( -u_{y} \\frac{\\partial\\,G}{\\partial u} - G\\left(x, y, u, u_{x}, u_{y}, u_{\\mathit{yy}}\\right) \\frac{\\partial\\,G}{\\partial u_{x}} - u_{\\mathit{yy}} \\frac{\\partial\\,G}{\\partial u_{y}} \\right) \\mathrm{d} x\\wedge \\mathrm{d} y + \\frac{\\partial\\,G}{\\partial u} \\mathrm{d} x\\wedge \\mathrm{d} u + \\frac{\\partial\\,G}{\\partial u_{x}} \\mathrm{d} x\\wedge \\mathrm{d} u_{x} + \\frac{\\partial\\,G}{\\partial u_{y}} \\mathrm{d} x\\wedge \\mathrm{d} u_{y} +\\mathrm{d} x\\wedge \\mathrm{d} u_{\\mathit{yy}} +\\mathrm{d} y\\wedge \\mathrm{d} u_{\\mathit{yy}}\\]</html>"
      ],
      "text/latex": [
       "$$\\newcommand{\\Bold}[1]{\\mathbf{#1}}\\mathrm{d}\\Omega_3 = \\left( -u_{y} \\frac{\\partial\\,G}{\\partial u} - G\\left(x, y, u, u_{x}, u_{y}, u_{\\mathit{yy}}\\right) \\frac{\\partial\\,G}{\\partial u_{x}} - u_{\\mathit{yy}} \\frac{\\partial\\,G}{\\partial u_{y}} \\right) \\mathrm{d} x\\wedge \\mathrm{d} y + \\frac{\\partial\\,G}{\\partial u} \\mathrm{d} x\\wedge \\mathrm{d} u + \\frac{\\partial\\,G}{\\partial u_{x}} \\mathrm{d} x\\wedge \\mathrm{d} u_{x} + \\frac{\\partial\\,G}{\\partial u_{y}} \\mathrm{d} x\\wedge \\mathrm{d} u_{y} +\\mathrm{d} x\\wedge \\mathrm{d} u_{\\mathit{yy}} +\\mathrm{d} y\\wedge \\mathrm{d} u_{\\mathit{yy}}$$"
      ],
      "text/plain": [
       "d\\Omega_3 = (-u_y*d(G)/du - G(x, y, u, u_x, u_y, u_yy)*d(G)/du_x - u_yy*d(G)/du_y) dx∧dy + d(G)/du dx∧du + d(G)/du_x dx∧du_x + d(G)/du_y dx∧du_y + dx∧du_yy + dy∧du_yy"
      ]
     },
     "execution_count": 25,
     "metadata": {},
     "output_type": "execute_result"
    }
   ],
   "source": [
    "dA3.display()"
   ]
  },
  {
   "cell_type": "code",
   "execution_count": 26,
   "id": "94cf8b2b",
   "metadata": {},
   "outputs": [
    {
     "data": {
      "text/html": [
       "<html>\\[\\newcommand{\\Bold}[1]{\\mathbf{#1}}\\begin{array}{llcl} \\mathrm{d}\\Omega_3\\left(X,Y\\right):& R^{6} & \\longrightarrow & \\mathbb{R} \\\\ & \\left(x, y, u, u_{x}, u_{y}, u_{\\mathit{yy}}\\right) & \\longmapsto & 0 \\end{array}\\]</html>"
      ],
      "text/latex": [
       "$$\\newcommand{\\Bold}[1]{\\mathbf{#1}}\\begin{array}{llcl} \\mathrm{d}\\Omega_3\\left(X,Y\\right):& R^{6} & \\longrightarrow & \\mathbb{R} \\\\ & \\left(x, y, u, u_{x}, u_{y}, u_{\\mathit{yy}}\\right) & \\longmapsto & 0 \\end{array}$$"
      ],
      "text/plain": [
       "d\\Omega_3(X,Y): R^{6} → ℝ\n",
       "   (x, y, u, u_x, u_y, u_yy) ↦ 0"
      ]
     },
     "execution_count": 26,
     "metadata": {},
     "output_type": "execute_result"
    }
   ],
   "source": [
    "dA3(X,Y).display()"
   ]
  },
  {
   "cell_type": "code",
   "execution_count": null,
   "id": "f4b5d7c6",
   "metadata": {},
   "outputs": [],
   "source": [
    "#The torsion is now absorbable with one free variable on the vector fields"
   ]
  },
  {
   "cell_type": "code",
   "execution_count": 28,
   "id": "419a67a6",
   "metadata": {},
   "outputs": [
    {
     "data": {
      "text/html": [
       "<html>\\[\\newcommand{\\Bold}[1]{\\mathbf{#1}}\\left(X = \\frac{\\partial}{\\partial x } + u_{x} \\frac{\\partial}{\\partial u } + F\\left(x, y, u, u_{x}, u_{y}, u_{\\mathit{yy}}\\right) \\frac{\\partial}{\\partial u_{x} } + G\\left(x, y, u, u_{x}, u_{y}, u_{\\mathit{yy}}\\right) \\frac{\\partial}{\\partial u_{y} } + a \\frac{\\partial}{\\partial u_{\\mathit{yy}} }, Y = \\frac{\\partial}{\\partial y } + u_{y} \\frac{\\partial}{\\partial u } + G\\left(x, y, u, u_{x}, u_{y}, u_{\\mathit{yy}}\\right) \\frac{\\partial}{\\partial u_{x} } + u_{\\mathit{yy}} \\frac{\\partial}{\\partial u_{y} } + a \\frac{\\partial}{\\partial u_{\\mathit{yy}} }\\right)\\]</html>"
      ],
      "text/latex": [
       "$$\\newcommand{\\Bold}[1]{\\mathbf{#1}}\\left(X = \\frac{\\partial}{\\partial x } + u_{x} \\frac{\\partial}{\\partial u } + F\\left(x, y, u, u_{x}, u_{y}, u_{\\mathit{yy}}\\right) \\frac{\\partial}{\\partial u_{x} } + G\\left(x, y, u, u_{x}, u_{y}, u_{\\mathit{yy}}\\right) \\frac{\\partial}{\\partial u_{y} } + a \\frac{\\partial}{\\partial u_{\\mathit{yy}} }, Y = \\frac{\\partial}{\\partial y } + u_{y} \\frac{\\partial}{\\partial u } + G\\left(x, y, u, u_{x}, u_{y}, u_{\\mathit{yy}}\\right) \\frac{\\partial}{\\partial u_{x} } + u_{\\mathit{yy}} \\frac{\\partial}{\\partial u_{y} } + a \\frac{\\partial}{\\partial u_{\\mathit{yy}} }\\right)$$"
      ],
      "text/plain": [
       "(X = ∂/∂x + u_x ∂/∂u + F(x, y, u, u_x, u_y, u_yy) ∂/∂u_x + G(x, y, u, u_x, u_y, u_yy) ∂/∂u_y + a ∂/∂u_yy,\n",
       " Y = ∂/∂y + u_y ∂/∂u + G(x, y, u, u_x, u_y, u_yy) ∂/∂u_x + u_yy ∂/∂u_y + a ∂/∂u_yy)"
      ]
     },
     "execution_count": 28,
     "metadata": {},
     "output_type": "execute_result"
    }
   ],
   "source": [
    "X.display(), Y.display()"
   ]
  },
  {
   "cell_type": "code",
   "execution_count": null,
   "id": "6365b9d6",
   "metadata": {},
   "outputs": [],
   "source": [
    "#The system is involution"
   ]
  },
  {
   "cell_type": "code",
   "execution_count": 29,
   "id": "f203033c",
   "metadata": {},
   "outputs": [
    {
     "name": "stdout",
     "output_type": "stream",
     "text": [
      "s_1=1\n"
     ]
    }
   ],
   "source": [
    "Ideal = [A1, A2, A3, dA1, dA2, dA3]\n",
    "Cartan_character_Calculator( R6, Ideal, X, Y)"
   ]
  }
 ],
 "metadata": {
  "kernelspec": {
   "display_name": "SageMath 9.4",
   "language": "sage",
   "name": "sagemath-9.4"
  },
  "language_info": {
   "codemirror_mode": {
    "name": "ipython",
    "version": 3
   },
   "file_extension": ".py",
   "mimetype": "text/x-python",
   "name": "python",
   "nbconvert_exporter": "python",
   "pygments_lexer": "ipython3",
   "version": "3.9.5"
  }
 },
 "nbformat": 4,
 "nbformat_minor": 5
}
