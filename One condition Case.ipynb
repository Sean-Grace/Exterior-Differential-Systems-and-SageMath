{
 "cells": [
  {
   "cell_type": "code",
   "execution_count": 5,
   "id": "9f35c61e",
   "metadata": {},
   "outputs": [],
   "source": [
    "%display latex\n",
    "import sympy as sp\n",
    "from itertools import combinations"
   ]
  },
  {
   "cell_type": "code",
   "execution_count": 6,
   "id": "89c426ee",
   "metadata": {},
   "outputs": [],
   "source": [
    "import string\n",
    "def arb_vector_field( Manifold, chart, frame, Name=None):\n",
    "    if dim(Manifold)>26:\n",
    "        return ERROR\n",
    "    \n",
    "    alphabet_string = string.ascii_lowercase\n",
    "    alphabet_list = list(alphabet_string)\n",
    "    \n",
    "    vectorlist = [None]*dim(Manifold)\n",
    "    \n",
    "    if Name==None:\n",
    "        vectorlist[i] = alphabet_list[i]\n",
    "    else:\n",
    "        for i in range(dim(Manifold)):\n",
    "            vectorlist[i] = alphabet_list[i]+\"_\"+Name\n",
    "        \n",
    "    #func = [None]*dim(M)\n",
    "    for i in range (len(vectorlist)):\n",
    "        locals()[vectorlist[i]] = var(vectorlist[i])\n",
    "    for i in range (len(vectorlist)):\n",
    "        vectorlist[i]=locals()[vectorlist[i]]\n",
    "    \n",
    "    if Name==None:\n",
    "        return (Manifold.vector_field({frame:vectorlist}), vectorlist)\n",
    "    else:\n",
    "        return (Manifold.vector_field({frame:vectorlist},name = Name), vectorlist)"
   ]
  },
  {
   "cell_type": "code",
   "execution_count": 7,
   "id": "4c5e3107",
   "metadata": {},
   "outputs": [],
   "source": [
    "def Condition_on_arb_vector_field(Manifold, frame, X, Omega, result, var_list):\n",
    "    Eval = Omega(X).expr()\n",
    "    Xl = X[:]\n",
    "    rem_var = []\n",
    "    for i in range(len(var_list)):\n",
    "        soln = sp.solveset(Eval-result, var_list[i])\n",
    "        for num in soln:\n",
    "            Xl[i] = num\n",
    "    return (Manifold.vector_field({frame:Xl}, name = my_name(X)))"
   ]
  },
  {
   "cell_type": "code",
   "execution_count": 8,
   "id": "26325054",
   "metadata": {},
   "outputs": [],
   "source": [
    "def Condition_on_2_arb_vectorfield(Manifold , frame, X, Y, two_form, result, var_list):\n",
    "    Eval = two_form(X,Y).expr()\n",
    "    Xl = X[:]\n",
    "    Yl = Y[:]\n",
    "    for i in range(len(var_list)):\n",
    "        soln = sp.solveset(Eval-result,var_list[i])\n",
    "        for num in soln:\n",
    "            Xl[i]=num\n",
    "    return( Manifold.vector_field({frame: Xl}, my_name(X)))"
   ]
  },
  {
   "cell_type": "code",
   "execution_count": 9,
   "id": "f23e2e48",
   "metadata": {},
   "outputs": [],
   "source": [
    "def wedge_max(M, Ideal):\n",
    "    weg = []\n",
    "    weg.append(Ideal[0])\n",
    "    for arg in range(1,len(Ideal)):\n",
    "        for k in range(0,len(weg)):\n",
    "            wedg = weg[k].wedge(Ideal[arg])\n",
    "            if wedg!=0 and (wedg).degree()!=dim(M):\n",
    "                weg[k] = wedg\n",
    "                break\n",
    "            elif k==len(weg)-1:\n",
    "                weg.append(Ideal[arg])\n",
    "                break \n",
    "    return (weg)"
   ]
  },
  {
   "cell_type": "code",
   "execution_count": 10,
   "id": "0cea4ed4",
   "metadata": {},
   "outputs": [],
   "source": [
    "def loop_rec(y, degg, n,wedg,res ):\n",
    "    inp = [0]*n\n",
    "    if n >= 1:\n",
    "        for x in range(y, degg-1):\n",
    "            inp[x] = y\n",
    "            loop_rec(y+1, n - 1, degg,wedg,res)\n",
    "    else:\n",
    "        if wedg[inp]==1 or wedg[inp]==-1:\n",
    "            return(\"always\")\n",
    "\n",
    "        if wedg[inp] not in res and -(wedg[inp]) not in res:\n",
    "            return(res.append(wedg[inp]))\n",
    "    return(res)"
   ]
  },
  {
   "cell_type": "code",
   "execution_count": 11,
   "id": "50cd6ad8",
   "metadata": {},
   "outputs": [],
   "source": [
    "def Independence_Conditions_Checker( M, list_of_indep, diff_form, v_field):\n",
    "    for i in range(len(list_of_indep)):\n",
    "        if diff_form.wedge(list_of_indep[i])==0:\n",
    "            return(\"Differential Form is not independent of the list of differential forms\")\n",
    "    list_of_cond = []\n",
    "    res=[]\n",
    "    lst=[]\n",
    "    for i in range(0,dim(M)):\n",
    "            lst.append(i)\n",
    "    for i in range(0,len(list_of_indep)):\n",
    "        \n",
    "        wedg = list_of_indep[i].wedge(diff_form)    \n",
    "        degg = list_of_indep[i].wedge(diff_form).degree()\n",
    "\n",
    "        comb = list(combinations(lst, int(degg)))\n",
    "        \n",
    "        for j in comb:\n",
    "\n",
    "            if list_of_ind[i].wedge(diff_form)[j].expr().variables() == ():\n",
    "                print(LatexExpr(\"Differential \\: form \\; {} \\: is \\: always \\: independent \\: of \\: differential \\: forms \\: given\".format(latex(diff_form.parent()))))\n",
    "                return(list_of_indep.append(diff_form))\n",
    "            if list_of_ind[i].wedge(diff_form)[j] not in res and -list_of_ind[i].wedge(diff_form)[j] not in res:\n",
    "                res.append(list_of_ind[i].wedge(diff_form)[j])\n",
    "            \n",
    "        \n",
    "    return (res)"
   ]
  },
  {
   "cell_type": "code",
   "execution_count": 12,
   "id": "770c2ec9",
   "metadata": {},
   "outputs": [],
   "source": [
    "def my_name(p):\n",
    "    for name, value in globals().items():\n",
    "        if id(value) == id(p):\n",
    "            return name"
   ]
  },
  {
   "cell_type": "code",
   "execution_count": 13,
   "id": "f95f4eff",
   "metadata": {},
   "outputs": [],
   "source": [
    "def Cartan_character_Calculator( M, Ideal, X, Y):\n",
    "    weg = wedge_max(M,Ideal)\n",
    "    \n",
    "    TableuaxX = []\n",
    "    TableuaxY = []\n",
    "    tallyX = 0\n",
    "    for diff in Ideal:\n",
    "        tally = 0\n",
    "        if diff.degree()==2:\n",
    "            diff_form = X.contract(diff)\n",
    "            for i in range(len(weg)):\n",
    "                tmp = diff_form.wedge(weg[i])\n",
    "                if tmp!=0:\n",
    "                    tally += 1\n",
    "            if tally == len(weg):\n",
    "                tallyX += 1\n",
    "                TableuaxX.append(diff_form)\n",
    "    tallyY = 0            \n",
    "    for diff in Ideal:\n",
    "        tally = 0\n",
    "        if diff.degree()==2:\n",
    "            diff_form = Y.contract(diff)\n",
    "            for i in range(len(weg)):\n",
    "                tmp = diff_form.wedge(weg[i])\n",
    "                if tmp!=0:\n",
    "                    tally += 1\n",
    "            if tally == len(weg):\n",
    "                tallyY +=1\n",
    "                TableuaxY.append(diff_form)\n",
    "    \n",
    "    Tableuax = TableuaxX + TableuaxY\n",
    "    if len(Tableuax)==0:\n",
    "        print(0)\n",
    "    elif len(Tableuax)==1:\n",
    "        print(\"s_1=1\")\n",
    "    else:\n",
    "        for i in range(1,len(TableuaxX)):           \n",
    "            for j in range(0,i-1):\n",
    "                if TableuaxX[j].wedge(TableuaxX[i])==0:\n",
    "                    TableuaxX[i]=1\n",
    "                    break\n",
    "        for k in range(len(TableuaxX)):\n",
    "            if TableuaxX[k]==1:\n",
    "                TableuaxX.remove(TableuaxX[k])\n",
    "                \n",
    "        for i in range(1,len(TableuaxY)):           \n",
    "            for j in range(0,i-1):\n",
    "                if TableuaxY[j].wedge(TableuaxY[i])==0:\n",
    "                    TableuaxY[i]=1\n",
    "                    break\n",
    "        for k in range(len(TableuaxY)):\n",
    "            if TableuaxY[k]==1:\n",
    "                TableuaxY.remove(TableuaxY[k])\n",
    "                \n",
    "        if len(TableuaxX)>=len(TableuaxY):\n",
    "            print(\"s_1 = {0}\".format(len(TableuaxX)))\n",
    "            s_2 = len(TableuaxY)\n",
    "            for i in range(len(TableuaxY)):\n",
    "                for j in range(len(TableuaxX)):\n",
    "                    tmp = TableuaxY[i].wedge(TableuaxX[j])\n",
    "                    if tmp == 0:\n",
    "                        s_2 = s_2-1\n",
    "                        break\n",
    "                        \n",
    "        elif len(TableuaxY)<len(TableuaxY):\n",
    "            print(\"s_1 = {0}\".format(len(TableuaxY)))\n",
    "            s_2 = len(TableuaxX)\n",
    "            for i in range(len(TableuaxX)):\n",
    "                for j in range(len(TableuaxY)):\n",
    "                    tmp = TableuaxX[i].wedge(TableuaxY[j])\n",
    "                    if tmp == 0:\n",
    "                        s_2 = s_2-1\n",
    "                        break\n",
    "                        \n",
    "        print(\"s_2= {0}\".format(s_2))"
   ]
  },
  {
   "cell_type": "code",
   "execution_count": 14,
   "id": "da0c12c8",
   "metadata": {},
   "outputs": [],
   "source": [
    "R7= Manifold(7,\"R^{7}\")\n",
    "chartR7.<x,y,u,u_x,u_y,u_xy,u_yy> = R7.chart()\n",
    "\n",
    "eA = chartR7.frame()  \n",
    "    \n",
    "F = function('F',nargs=7)(*chartR7)\n",
    "\n",
    "A4 = R7.one_form({eA:[1,0,0,0,0,0,0]}, name='\\Omega_4')\n",
    "A5 = R7.one_form({eA:[0,1,0,0,0,0,0]}, name='\\Omega_5')\n",
    "\n",
    "A1 = R7.one_form({eA:[-u_x,-u_y,1,0,0,0,0]}, name='\\Omega_1')\n",
    "A2 = R7.one_form({eA:[F,-u_xy,0,1,0,0,0]}, name='\\Omega_2')\n",
    "A3 = R7.one_form({eA:[-u_xy,-u_yy,0,0,1,0,0]}, name='\\Omega_3')\n",
    "\n",
    "X, varx = arb_vector_field( R7, chartR7, eA, \"X\")\n",
    "\n",
    "Y, vary = arb_vector_field( R7, chartR7, eA, \"Y\")\n",
    "\n",
    "\n",
    "\n",
    "dA2=A2.exterior_derivative()\n",
    "dA1=A1.exterior_derivative()\n",
    "dA3=A3.exterior_derivative()\n"
   ]
  },
  {
   "cell_type": "code",
   "execution_count": 15,
   "id": "86bd74e3",
   "metadata": {},
   "outputs": [
    {
     "data": {
      "text/html": [
       "<html>\\[\\newcommand{\\Bold}[1]{\\mathbf{#1}}\\left(X = a_{X} \\frac{\\partial}{\\partial x } + b_{X} \\frac{\\partial}{\\partial y } + c_{X} \\frac{\\partial}{\\partial u } + d_{X} \\frac{\\partial}{\\partial u_{x} } + e_{X} \\frac{\\partial}{\\partial u_{y} } + f_{X} \\frac{\\partial}{\\partial u_{\\mathit{xy}} } + g_{X} \\frac{\\partial}{\\partial u_{\\mathit{yy}} }, Y = a_{Y} \\frac{\\partial}{\\partial x } + b_{Y} \\frac{\\partial}{\\partial y } + c_{Y} \\frac{\\partial}{\\partial u } + d_{Y} \\frac{\\partial}{\\partial u_{x} } + e_{Y} \\frac{\\partial}{\\partial u_{y} } + f_{Y} \\frac{\\partial}{\\partial u_{\\mathit{xy}} } + g_{Y} \\frac{\\partial}{\\partial u_{\\mathit{yy}} }\\right)\\]</html>"
      ],
      "text/latex": [
       "$$\\newcommand{\\Bold}[1]{\\mathbf{#1}}\\left(X = a_{X} \\frac{\\partial}{\\partial x } + b_{X} \\frac{\\partial}{\\partial y } + c_{X} \\frac{\\partial}{\\partial u } + d_{X} \\frac{\\partial}{\\partial u_{x} } + e_{X} \\frac{\\partial}{\\partial u_{y} } + f_{X} \\frac{\\partial}{\\partial u_{\\mathit{xy}} } + g_{X} \\frac{\\partial}{\\partial u_{\\mathit{yy}} }, Y = a_{Y} \\frac{\\partial}{\\partial x } + b_{Y} \\frac{\\partial}{\\partial y } + c_{Y} \\frac{\\partial}{\\partial u } + d_{Y} \\frac{\\partial}{\\partial u_{x} } + e_{Y} \\frac{\\partial}{\\partial u_{y} } + f_{Y} \\frac{\\partial}{\\partial u_{\\mathit{xy}} } + g_{Y} \\frac{\\partial}{\\partial u_{\\mathit{yy}} }\\right)$$"
      ],
      "text/plain": [
       "(X = a_X ∂/∂x + b_X ∂/∂y + c_X ∂/∂u + d_X ∂/∂u_x + e_X ∂/∂u_y + f_X ∂/∂u_xy + g_X ∂/∂u_yy,\n",
       " Y = a_Y ∂/∂x + b_Y ∂/∂y + c_Y ∂/∂u + d_Y ∂/∂u_x + e_Y ∂/∂u_y + f_Y ∂/∂u_xy + g_Y ∂/∂u_yy)"
      ]
     },
     "execution_count": 15,
     "metadata": {},
     "output_type": "execute_result"
    }
   ],
   "source": [
    "X.display(), Y.display()"
   ]
  },
  {
   "cell_type": "code",
   "execution_count": 16,
   "id": "203ff284",
   "metadata": {},
   "outputs": [],
   "source": [
    "X =Condition_on_arb_vector_field(R7,eA,X,A4,1,varx)\n",
    "X =Condition_on_arb_vector_field(R7,eA,X,A5,0, varx)\n",
    "X =Condition_on_arb_vector_field(R7,eA,X,A1,0,varx)\n",
    "X =Condition_on_arb_vector_field(R7,eA,X,A2,0,varx)\n",
    "X =Condition_on_arb_vector_field(R7,eA,X,A3,0,varx)"
   ]
  },
  {
   "cell_type": "code",
   "execution_count": 17,
   "id": "c5e5fa11",
   "metadata": {},
   "outputs": [
    {
     "data": {
      "text/html": [
       "<html>\\[\\newcommand{\\Bold}[1]{\\mathbf{#1}}X = \\frac{\\partial}{\\partial x } + u_{x} \\frac{\\partial}{\\partial u } -F\\left(x, y, u, u_{x}, u_{y}, u_{\\mathit{xy}}, u_{\\mathit{yy}}\\right) \\frac{\\partial}{\\partial u_{x} } + u_{\\mathit{xy}} \\frac{\\partial}{\\partial u_{y} } + f_{X} \\frac{\\partial}{\\partial u_{\\mathit{xy}} } + g_{X} \\frac{\\partial}{\\partial u_{\\mathit{yy}} }\\]</html>"
      ],
      "text/latex": [
       "$$\\newcommand{\\Bold}[1]{\\mathbf{#1}}X = \\frac{\\partial}{\\partial x } + u_{x} \\frac{\\partial}{\\partial u } -F\\left(x, y, u, u_{x}, u_{y}, u_{\\mathit{xy}}, u_{\\mathit{yy}}\\right) \\frac{\\partial}{\\partial u_{x} } + u_{\\mathit{xy}} \\frac{\\partial}{\\partial u_{y} } + f_{X} \\frac{\\partial}{\\partial u_{\\mathit{xy}} } + g_{X} \\frac{\\partial}{\\partial u_{\\mathit{yy}} }$$"
      ],
      "text/plain": [
       "X = ∂/∂x + u_x ∂/∂u - F(x, y, u, u_x, u_y, u_xy, u_yy) ∂/∂u_x + u_xy ∂/∂u_y + f_X ∂/∂u_xy + g_X ∂/∂u_yy"
      ]
     },
     "execution_count": 17,
     "metadata": {},
     "output_type": "execute_result"
    }
   ],
   "source": [
    "X.display()"
   ]
  },
  {
   "cell_type": "code",
   "execution_count": 18,
   "id": "f914d8ac",
   "metadata": {},
   "outputs": [],
   "source": [
    "Y =Condition_on_arb_vector_field(R7,eA,Y,A4,0,vary)\n",
    "Y =Condition_on_arb_vector_field(R7,eA,Y,A5,1,vary)\n",
    "Y =Condition_on_arb_vector_field(R7,eA,Y,A1,0,vary)\n",
    "Y =Condition_on_arb_vector_field(R7,eA,Y,A2,0,vary)\n",
    "Y =Condition_on_arb_vector_field(R7,eA,Y,A3,0,vary)"
   ]
  },
  {
   "cell_type": "code",
   "execution_count": 19,
   "id": "e18265d9",
   "metadata": {},
   "outputs": [
    {
     "data": {
      "text/html": [
       "<html>\\[\\newcommand{\\Bold}[1]{\\mathbf{#1}}Y = \\frac{\\partial}{\\partial y } + u_{y} \\frac{\\partial}{\\partial u } + u_{\\mathit{xy}} \\frac{\\partial}{\\partial u_{x} } + u_{\\mathit{yy}} \\frac{\\partial}{\\partial u_{y} } + f_{Y} \\frac{\\partial}{\\partial u_{\\mathit{xy}} } + g_{Y} \\frac{\\partial}{\\partial u_{\\mathit{yy}} }\\]</html>"
      ],
      "text/latex": [
       "$$\\newcommand{\\Bold}[1]{\\mathbf{#1}}Y = \\frac{\\partial}{\\partial y } + u_{y} \\frac{\\partial}{\\partial u } + u_{\\mathit{xy}} \\frac{\\partial}{\\partial u_{x} } + u_{\\mathit{yy}} \\frac{\\partial}{\\partial u_{y} } + f_{Y} \\frac{\\partial}{\\partial u_{\\mathit{xy}} } + g_{Y} \\frac{\\partial}{\\partial u_{\\mathit{yy}} }$$"
      ],
      "text/plain": [
       "Y = ∂/∂y + u_y ∂/∂u + u_xy ∂/∂u_x + u_yy ∂/∂u_y + f_Y ∂/∂u_xy + g_Y ∂/∂u_yy"
      ]
     },
     "execution_count": 19,
     "metadata": {},
     "output_type": "execute_result"
    }
   ],
   "source": [
    "Y.display()"
   ]
  },
  {
   "cell_type": "code",
   "execution_count": 20,
   "id": "c744f95b",
   "metadata": {},
   "outputs": [],
   "source": [
    "X=Condition_on_2_arb_vectorfield(R7,eA,X,Y,dA3,0,varx)\n",
    "X=Condition_on_2_arb_vectorfield(R7,eA,X,Y,dA2,0,varx)"
   ]
  },
  {
   "cell_type": "code",
   "execution_count": 21,
   "id": "7fc67ac8",
   "metadata": {},
   "outputs": [
    {
     "data": {
      "text/html": [
       "<html>\\[\\newcommand{\\Bold}[1]{\\mathbf{#1}}\\frac{\\partial}{\\partial x } + u_{x} \\frac{\\partial}{\\partial u } -F\\left(x, y, u, u_{x}, u_{y}, u_{\\mathit{xy}}, u_{\\mathit{yy}}\\right) \\frac{\\partial}{\\partial u_{x} } + u_{\\mathit{xy}} \\frac{\\partial}{\\partial u_{y} } + \\left( -u_{y} \\frac{\\partial\\,F}{\\partial u} - u_{\\mathit{xy}} \\frac{\\partial\\,F}{\\partial u_{x}} - u_{\\mathit{yy}} \\frac{\\partial\\,F}{\\partial u_{y}} - f_{Y} \\frac{\\partial\\,F}{\\partial u_{\\mathit{xy}}} - g_{Y} \\frac{\\partial\\,F}{\\partial u_{\\mathit{yy}}} - \\frac{\\partial\\,F}{\\partial y} \\right) \\frac{\\partial}{\\partial u_{\\mathit{xy}} } + f_{Y} \\frac{\\partial}{\\partial u_{\\mathit{yy}} }\\]</html>"
      ],
      "text/latex": [
       "$$\\newcommand{\\Bold}[1]{\\mathbf{#1}}\\frac{\\partial}{\\partial x } + u_{x} \\frac{\\partial}{\\partial u } -F\\left(x, y, u, u_{x}, u_{y}, u_{\\mathit{xy}}, u_{\\mathit{yy}}\\right) \\frac{\\partial}{\\partial u_{x} } + u_{\\mathit{xy}} \\frac{\\partial}{\\partial u_{y} } + \\left( -u_{y} \\frac{\\partial\\,F}{\\partial u} - u_{\\mathit{xy}} \\frac{\\partial\\,F}{\\partial u_{x}} - u_{\\mathit{yy}} \\frac{\\partial\\,F}{\\partial u_{y}} - f_{Y} \\frac{\\partial\\,F}{\\partial u_{\\mathit{xy}}} - g_{Y} \\frac{\\partial\\,F}{\\partial u_{\\mathit{yy}}} - \\frac{\\partial\\,F}{\\partial y} \\right) \\frac{\\partial}{\\partial u_{\\mathit{xy}} } + f_{Y} \\frac{\\partial}{\\partial u_{\\mathit{yy}} }$$"
      ],
      "text/plain": [
       "∂/∂x + u_x ∂/∂u - F(x, y, u, u_x, u_y, u_xy, u_yy) ∂/∂u_x + u_xy ∂/∂u_y + (-u_y*d(F)/du - u_xy*d(F)/du_x - u_yy*d(F)/du_y - f_Y*d(F)/du_xy - g_Y*d(F)/du_yy - d(F)/dy) ∂/∂u_xy + f_Y ∂/∂u_yy"
      ]
     },
     "execution_count": 21,
     "metadata": {},
     "output_type": "execute_result"
    }
   ],
   "source": [
    "X.display()"
   ]
  },
  {
   "cell_type": "code",
   "execution_count": 22,
   "id": "fbdc1f75",
   "metadata": {},
   "outputs": [
    {
     "data": {
      "text/html": [
       "<html>\\[\\newcommand{\\Bold}[1]{\\mathbf{#1}}Y = \\frac{\\partial}{\\partial y } + u_{y} \\frac{\\partial}{\\partial u } + u_{\\mathit{xy}} \\frac{\\partial}{\\partial u_{x} } + u_{\\mathit{yy}} \\frac{\\partial}{\\partial u_{y} } + f_{Y} \\frac{\\partial}{\\partial u_{\\mathit{xy}} } + g_{Y} \\frac{\\partial}{\\partial u_{\\mathit{yy}} }\\]</html>"
      ],
      "text/latex": [
       "$$\\newcommand{\\Bold}[1]{\\mathbf{#1}}Y = \\frac{\\partial}{\\partial y } + u_{y} \\frac{\\partial}{\\partial u } + u_{\\mathit{xy}} \\frac{\\partial}{\\partial u_{x} } + u_{\\mathit{yy}} \\frac{\\partial}{\\partial u_{y} } + f_{Y} \\frac{\\partial}{\\partial u_{\\mathit{xy}} } + g_{Y} \\frac{\\partial}{\\partial u_{\\mathit{yy}} }$$"
      ],
      "text/plain": [
       "Y = ∂/∂y + u_y ∂/∂u + u_xy ∂/∂u_x + u_yy ∂/∂u_y + f_Y ∂/∂u_xy + g_Y ∂/∂u_yy"
      ]
     },
     "execution_count": 22,
     "metadata": {},
     "output_type": "execute_result"
    }
   ],
   "source": [
    "Y.display()"
   ]
  },
  {
   "cell_type": "code",
   "execution_count": 23,
   "id": "a5e92f2c",
   "metadata": {},
   "outputs": [
    {
     "name": "stdout",
     "output_type": "stream",
     "text": [
      "s_1 = 2\n",
      "s_2= 0\n"
     ]
    }
   ],
   "source": [
    "Cartan_character_Calculator(R7, [A1,A2,A3,dA1,dA2,dA3] , X, Y)"
   ]
  }
 ],
 "metadata": {
  "kernelspec": {
   "display_name": "SageMath 9.4",
   "language": "sage",
   "name": "sagemath-9.4"
  },
  "language_info": {
   "codemirror_mode": {
    "name": "ipython",
    "version": 3
   },
   "file_extension": ".py",
   "mimetype": "text/x-python",
   "name": "python",
   "nbconvert_exporter": "python",
   "pygments_lexer": "ipython3",
   "version": "3.9.5"
  }
 },
 "nbformat": 4,
 "nbformat_minor": 5
}
